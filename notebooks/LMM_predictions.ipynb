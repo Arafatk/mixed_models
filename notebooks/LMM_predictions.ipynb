{
 "cells": [
  {
   "cell_type": "markdown",
   "metadata": {},
   "source": [
    "# LMM predictions and prediction intervals\n",
    "\n",
    "Below we will fit a linear mixed model using the Ruby gem [mixed\\_models](https://github.com/agisga/mixed_models) and demonstrate the available prediction methods."
   ]
  },
  {
   "cell_type": "markdown",
   "metadata": {},
   "source": [
    "## Data and linear mixed model\n",
    "\n",
    "We use the same data and model formulation as in several previous examples, where we have looked at various parameter estimates ([1](http://nbviewer.ipython.org/github/agisga/mixed_models/blob/master/notebooks/LMM_model_fitting.ipynb)) and demostrated many types hypotheses tests as well as confidence intervals ([2](http://nbviewer.ipython.org/github/agisga/mixed_models/blob/master/notebooks/LMM_tests_and_intervals.ipynb)).\n",
    "\n",
    "The data set, which is simulated, contains two numeric variables *Age* and *Aggression*, and two categorical variables *Location* and *Species*. These data are available for 100 (human and alien) individuals.\n",
    "\n",
    "We model the *Aggression* level of an individual of *Species* $spcs$ who is at the *Location* $lctn$ as:\n",
    "\n",
    "$$Aggression = \\beta_{0} + \\gamma_{spcs} + Age \\cdot \\beta_{1} + b_{lctn,0} + Age \\cdot b_{lctn,1} + \\epsilon,$$\n",
    "\n",
    "where $\\epsilon$ is a random residual, and the random vector $(b_{lctn,0}, b_{lctn,1})^T$ follows a multivariate normal distribution (the same distribution but different realizations of the random vector for each *Location*).\n",
    "\n",
    "We fit this model in `mixed_models` using a syntax familiar from the `R` package `lme4`."
   ]
  },
  {
   "cell_type": "code",
   "execution_count": 1,
   "metadata": {
    "collapsed": false
   },
   "outputs": [
    {
     "data": {
      "application/javascript": [
       "if(window['d3'] === undefined ||\n",
       "   window['Nyaplot'] === undefined){\n",
       "    var path = {\"d3\":\"http://d3js.org/d3.v3.min\",\"downloadable\":\"http://cdn.rawgit.com/domitry/d3-downloadable/master/d3-downloadable\"};\n",
       "\n",
       "\n",
       "\n",
       "    var shim = {\"d3\":{\"exports\":\"d3\"},\"downloadable\":{\"exports\":\"downloadable\"}};\n",
       "\n",
       "    require.config({paths: path, shim:shim});\n",
       "\n",
       "\n",
       "require(['d3'], function(d3){window['d3']=d3;console.log('finished loading d3');require(['downloadable'], function(downloadable){window['downloadable']=downloadable;console.log('finished loading downloadable');\n",
       "\n",
       "\tvar script = d3.select(\"head\")\n",
       "\t    .append(\"script\")\n",
       "\t    .attr(\"src\", \"http://cdn.rawgit.com/domitry/Nyaplotjs/master/release/nyaplot.js\")\n",
       "\t    .attr(\"async\", true);\n",
       "\n",
       "\tscript[0][0].onload = script[0][0].onreadystatechange = function(){\n",
       "\n",
       "\n",
       "\t    var event = document.createEvent(\"HTMLEvents\");\n",
       "\t    event.initEvent(\"load_nyaplot\",false,false);\n",
       "\t    window.dispatchEvent(event);\n",
       "\t    console.log('Finished loading Nyaplotjs');\n",
       "\n",
       "\t};\n",
       "\n",
       "\n",
       "});});\n",
       "}\n"
      ],
      "text/plain": [
       "\"if(window['d3'] === undefined ||\\n   window['Nyaplot'] === undefined){\\n    var path = {\\\"d3\\\":\\\"http://d3js.org/d3.v3.min\\\",\\\"downloadable\\\":\\\"http://cdn.rawgit.com/domitry/d3-downloadable/master/d3-downloadable\\\"};\\n\\n\\n\\n    var shim = {\\\"d3\\\":{\\\"exports\\\":\\\"d3\\\"},\\\"downloadable\\\":{\\\"exports\\\":\\\"downloadable\\\"}};\\n\\n    require.config({paths: path, shim:shim});\\n\\n\\nrequire(['d3'], function(d3){window['d3']=d3;console.log('finished loading d3');require(['downloadable'], function(downloadable){window['downloadable']=downloadable;console.log('finished loading downloadable');\\n\\n\\tvar script = d3.select(\\\"head\\\")\\n\\t    .append(\\\"script\\\")\\n\\t    .attr(\\\"src\\\", \\\"http://cdn.rawgit.com/domitry/Nyaplotjs/master/release/nyaplot.js\\\")\\n\\t    .attr(\\\"async\\\", true);\\n\\n\\tscript[0][0].onload = script[0][0].onreadystatechange = function(){\\n\\n\\n\\t    var event = document.createEvent(\\\"HTMLEvents\\\");\\n\\t    event.initEvent(\\\"load_nyaplot\\\",false,false);\\n\\t    window.dispatchEvent(event);\\n\\t    console.log('Finished loading Nyaplotjs');\\n\\n\\t};\\n\\n\\n});});\\n}\\n\""
      ]
     },
     "metadata": {},
     "output_type": "display_data"
    },
    {
     "data": {
      "text/html": [
       "<table><tr><th colspan=\"5\">Daru::DataFrame:69998224639280  rows: 5  cols: 4<tr><th></th><th>coef</th><th>sd</th><th>z_score</th><th>WaldZ_p_value</th></tr><tr><td>intercept</td><td>1016.2867207696772</td><td>60.19727495932258</td><td>16.882603431075875</td><td>0.0</td></tr><tr><td>Age</td><td>-0.06531615343467667</td><td>0.08988486367253856</td><td>-0.7266646548258817</td><td>0.4674314106158888</td></tr><tr><td>Species_lvl_Human</td><td>-499.693695290209</td><td>0.2682523406941927</td><td>-1862.7747813759402</td><td>0.0</td></tr><tr><td>Species_lvl_Ood</td><td>-899.5693213535769</td><td>0.2814470814004366</td><td>-3196.2289922406044</td><td>0.0</td></tr><tr><td>Species_lvl_WeepingAngel</td><td>-199.58895804200762</td><td>0.2757835779525997</td><td>-723.7158917283754</td><td>0.0</td></tr></table>"
      ],
      "text/plain": [
       "\n",
       "#<Daru::DataFrame:69998224639280 @name = 8937119d-24ad-439a-acee-ae492cdfa1ce @size = 5>\n",
       "                 coef         sd    z_score WaldZ_p_va \n",
       " intercept 1016.28672 60.1972749 16.8826034        0.0 \n",
       "       Age -0.0653161 0.08988486 -0.7266646 0.46743141 \n",
       "Species_lv -499.69369 0.26825234 -1862.7747        0.0 \n",
       "Species_lv -899.56932 0.28144708 -3196.2289        0.0 \n",
       "Species_lv -199.58895 0.27578357 -723.71589        0.0 \n"
      ]
     },
     "execution_count": 1,
     "metadata": {},
     "output_type": "execute_result"
    }
   ],
   "source": [
    "require 'mixed_models'\n",
    "model_fit = LMM.from_formula(formula: \"Aggression ~ Age + Species + (Age | Location)\", \n",
    "                             data: Daru::DataFrame.from_csv(\"../examples/data/alien_species.csv\"))\n",
    "model_fit.fix_ef_summary"
   ]
  },
  {
   "cell_type": "markdown",
   "metadata": {},
   "source": [
    "## Predictions and prediction intervals\n",
    "\n",
    "Often, the objective of a statistical model is the prediction of future observations based on new data input.\n",
    "\n",
    "We consider the following new data set containing age, geographic location and species for ten individuals."
   ]
  },
  {
   "cell_type": "code",
   "execution_count": 2,
   "metadata": {
    "collapsed": false
   },
   "outputs": [
    {
     "data": {
      "text/html": [
       "<table><tr><th colspan=\"4\">Daru::DataFrame:69998224313500  rows: 10  cols: 3<tr><th></th><th>Age</th><th>Location</th><th>Species</th></tr><tr><td>0</td><td>209</td><td>OodSphere</td><td>Dalek</td></tr><tr><td>1</td><td>90</td><td>Earth</td><td>Ood</td></tr><tr><td>2</td><td>173</td><td>Asylum</td><td>Ood</td></tr><tr><td>3</td><td>153</td><td>Asylum</td><td>Human</td></tr><tr><td>4</td><td>255</td><td>OodSphere</td><td>WeepingAngel</td></tr><tr><td>5</td><td>256</td><td>Asylum</td><td>WeepingAngel</td></tr><tr><td>6</td><td>37</td><td>Earth</td><td>Dalek</td></tr><tr><td>7</td><td>146</td><td>Earth</td><td>WeepingAngel</td></tr><tr><td>8</td><td>127</td><td>Asylum</td><td>WeepingAngel</td></tr><tr><td>9</td><td>41</td><td>Asylum</td><td>Ood</td></tr></table>"
      ],
      "text/plain": [
       "\n",
       "#<Daru::DataFrame:69998224313500 @name = 663e12fa-6d71-4570-a66d-00435bd01713 @size = 10>\n",
       "                  Age   Location    Species \n",
       "         0        209  OodSphere      Dalek \n",
       "         1         90      Earth        Ood \n",
       "         2        173     Asylum        Ood \n",
       "         3        153     Asylum      Human \n",
       "         4        255  OodSphere WeepingAng \n",
       "         5        256     Asylum WeepingAng \n",
       "         6         37      Earth      Dalek \n",
       "         7        146      Earth WeepingAng \n",
       "         8        127     Asylum WeepingAng \n",
       "         9         41     Asylum        Ood \n"
      ]
     },
     "execution_count": 2,
     "metadata": {},
     "output_type": "execute_result"
    }
   ],
   "source": [
    "newdata = Daru::DataFrame.from_csv '../examples/data/alien_species_newdata.csv'"
   ]
  },
  {
   "cell_type": "markdown",
   "metadata": {},
   "source": [
    "#### Point estimates\n",
    "\n",
    "Based on the fitted linear mixed model we can predict the aggression levels for the inidividuals, where we can specify whether the random effects estimates should be included in the calculations or not."
   ]
  },
  {
   "cell_type": "code",
   "execution_count": 3,
   "metadata": {
    "collapsed": false
   },
   "outputs": [
    {
     "name": "stdout",
     "output_type": "stream",
     "text": [
      "Predictions of aggression levels on a new data set:\n"
     ]
    },
    {
     "data": {
      "text/plain": [
       "[1070.9125752531213, 182.45206492790766, -17.064468754763425, 384.78815861991046, 876.1240725686444, 674.711339114886, 1092.6985606350875, 871.150885526236, 687.4629975728096, -4.0162601001437395]"
      ]
     },
     "execution_count": 3,
     "metadata": {},
     "output_type": "execute_result"
    }
   ],
   "source": [
    "puts \"Predictions of aggression levels on a new data set:\"\n",
    "pred =  model_fit.predict(newdata: newdata, with_ran_ef: true)"
   ]
  },
  {
   "cell_type": "markdown",
   "metadata": {},
   "source": [
    "Now we can add the computed predictions to the data set, in order to see better which of the individuals are likely to be particularly dangerous."
   ]
  },
  {
   "cell_type": "code",
   "execution_count": 4,
   "metadata": {
    "collapsed": false
   },
   "outputs": [
    {
     "data": {
      "text/html": [
       "<table><tr><th colspan=\"5\">Daru::DataFrame:69998223261360  rows: 10  cols: 4<tr><th></th><th>Age</th><th>Location</th><th>Species</th><th>Predicted_Agression</th></tr><tr><td>0</td><td>209</td><td>OodSphere</td><td>Dalek</td><td>1070.9125752531213</td></tr><tr><td>1</td><td>90</td><td>Earth</td><td>Ood</td><td>182.45206492790766</td></tr><tr><td>2</td><td>173</td><td>Asylum</td><td>Ood</td><td>-17.064468754763425</td></tr><tr><td>3</td><td>153</td><td>Asylum</td><td>Human</td><td>384.78815861991046</td></tr><tr><td>4</td><td>255</td><td>OodSphere</td><td>WeepingAngel</td><td>876.1240725686444</td></tr><tr><td>5</td><td>256</td><td>Asylum</td><td>WeepingAngel</td><td>674.711339114886</td></tr><tr><td>6</td><td>37</td><td>Earth</td><td>Dalek</td><td>1092.6985606350875</td></tr><tr><td>7</td><td>146</td><td>Earth</td><td>WeepingAngel</td><td>871.150885526236</td></tr><tr><td>8</td><td>127</td><td>Asylum</td><td>WeepingAngel</td><td>687.4629975728096</td></tr><tr><td>9</td><td>41</td><td>Asylum</td><td>Ood</td><td>-4.0162601001437395</td></tr></table>"
      ],
      "text/plain": [
       "\n",
       "#<Daru::DataFrame:69998223261360 @name = bbedbca3-8de1-4f39-ba73-54076603f540 @size = 10>\n",
       "                  Age   Location    Species Predicted_ \n",
       "         0        209  OodSphere      Dalek 1070.91257 \n",
       "         1         90      Earth        Ood 182.452064 \n",
       "         2        173     Asylum        Ood -17.064468 \n",
       "         3        153     Asylum      Human 384.788158 \n",
       "         4        255  OodSphere WeepingAng 876.124072 \n",
       "         5        256     Asylum WeepingAng 674.711339 \n",
       "         6         37      Earth      Dalek 1092.69856 \n",
       "         7        146      Earth WeepingAng 871.150885 \n",
       "         8        127     Asylum WeepingAng 687.462997 \n",
       "         9         41     Asylum        Ood -4.0162601 \n"
      ]
     },
     "execution_count": 4,
     "metadata": {},
     "output_type": "execute_result"
    }
   ],
   "source": [
    "newdata = Daru::DataFrame.from_csv '../examples/data/alien_species_newdata.csv'\n",
    "newdata[:Predicted_Agression] = pred\n",
    "newdata"
   ]
  },
  {
   "cell_type": "markdown",
   "metadata": {},
   "source": [
    "#### Interval estimates\n",
    "\n",
    "Since the estimated fixed and random effects coefficients most likely are not exactly the true values, we probably should look at interval estimates of the predictions, rather than the point estimates computed above.\n",
    "\n",
    "Two types of such interval estimates are currently available in `LMM`. On the one hand, a *confidence interval* is an interval estimate of the mean value of the response for given covariates (i.e. a population parameter); on the other hand, a *prediction interval* is an interval estimate of a future observation (for further explanation of this distinction see for example <https://stat.ethz.ch/education/semesters/ss2010/seminar/06_Handout.pdf>)."
   ]
  },
  {
   "cell_type": "code",
   "execution_count": 5,
   "metadata": {
    "collapsed": false
   },
   "outputs": [
    {
     "name": "stdout",
     "output_type": "stream",
     "text": [
      "88% confidence intervals for the predictions:\n"
     ]
    },
    {
     "data": {
      "text/html": [
       "<table><tr><th colspan=\"4\">Daru::DataFrame:69998222468540  rows: 10  cols: 3<tr><th></th><th>pred</th><th>lower88</th><th>upper88</th></tr><tr><td>0</td><td>1002.6356447018298</td><td>906.2754747934689</td><td>1098.9958146101908</td></tr><tr><td>1</td><td>110.83894560697945</td><td>17.15393227635039</td><td>204.5239589376085</td></tr><tr><td>2</td><td>105.41770487190126</td><td>10.164689101505488</td><td>200.67072064229706</td></tr><tr><td>3</td><td>506.59965400396266</td><td>411.85192033760063</td><td>601.3473876703247</td></tr><tr><td>4</td><td>800.0421436018271</td><td>701.9091186954804</td><td>898.1751685081738</td></tr><tr><td>5</td><td>799.9768274483924</td><td>701.8009464989634</td><td>898.1527083978215</td></tr><tr><td>6</td><td>1013.8700230925942</td><td>920.4439324626674</td><td>1107.296113722521</td></tr><tr><td>7</td><td>807.1616043262068</td><td>712.5717603652894</td><td>901.7514482871242</td></tr><tr><td>8</td><td>808.4026112414656</td><td>714.1916412760585</td><td>902.6135812068727</td></tr><tr><td>9</td><td>114.0394371252786</td><td>20.614036014106333</td><td>207.46483823645087</td></tr></table>"
      ],
      "text/plain": [
       "\n",
       "#<Daru::DataFrame:69998222468540 @name = 8509f7ac-3e58-4d8f-9a24-acce98c0e96f @size = 10>\n",
       "                 pred    lower88    upper88 \n",
       "         0 1002.63564 906.275474 1098.99581 \n",
       "         1 110.838945 17.1539322 204.523958 \n",
       "         2 105.417704 10.1646891 200.670720 \n",
       "         3 506.599654 411.851920 601.347387 \n",
       "         4 800.042143 701.909118 898.175168 \n",
       "         5 799.976827 701.800946 898.152708 \n",
       "         6 1013.87002 920.443932 1107.29611 \n",
       "         7 807.161604 712.571760 901.751448 \n",
       "         8 808.402611 714.191641 902.613581 \n",
       "         9 114.039437 20.6140360 207.464838 \n"
      ]
     },
     "execution_count": 5,
     "metadata": {},
     "output_type": "execute_result"
    }
   ],
   "source": [
    "puts \"88% confidence intervals for the predictions:\"\n",
    "ci = model_fit.predict_with_intervals(newdata: newdata, level: 0.88, type: :confidence)\n",
    "Daru::DataFrame.new(ci, order: [:pred, :lower88, :upper88])"
   ]
  },
  {
   "cell_type": "code",
   "execution_count": 6,
   "metadata": {
    "collapsed": false
   },
   "outputs": [
    {
     "name": "stdout",
     "output_type": "stream",
     "text": [
      "88% prediction intervals for the predictions:\n"
     ]
    },
    {
     "data": {
      "text/html": [
       "<table><tr><th colspan=\"4\">Daru::DataFrame:69998216536580  rows: 10  cols: 3<tr><th></th><th>pred</th><th>lower88</th><th>upper88</th></tr><tr><td>0</td><td>1002.6356447018298</td><td>809.9100524363739</td><td>1195.3612369672858</td></tr><tr><td>1</td><td>110.83894560697945</td><td>-76.53615661744246</td><td>298.21404783140133</td></tr><tr><td>2</td><td>105.41770487190126</td><td>-85.09352637970153</td><td>295.92893612350406</td></tr><tr><td>3</td><td>506.59965400396266</td><td>317.0989018065296</td><td>696.1004062013957</td></tr><tr><td>4</td><td>800.0421436018271</td><td>603.7714004192385</td><td>996.3128867844157</td></tr><tr><td>5</td><td>799.9768274483924</td><td>603.6203800394777</td><td>996.3332748573072</td></tr><tr><td>6</td><td>1013.8700230925942</td><td>827.0127254555641</td><td>1200.7273207296244</td></tr><tr><td>7</td><td>807.1616043262068</td><td>617.9767326615571</td><td>996.3464759908564</td></tr><tr><td>8</td><td>808.4026112414656</td><td>619.9754814901145</td><td>996.8297409928167</td></tr><tr><td>9</td><td>114.0394371252786</td><td>-72.81614249215542</td><td>300.89501674271264</td></tr></table>"
      ],
      "text/plain": [
       "\n",
       "#<Daru::DataFrame:69998216536580 @name = 91f5cbbf-0be7-4e68-ac61-15025f4a74c8 @size = 10>\n",
       "                 pred    lower88    upper88 \n",
       "         0 1002.63564 809.910052 1195.36123 \n",
       "         1 110.838945 -76.536156 298.214047 \n",
       "         2 105.417704 -85.093526 295.928936 \n",
       "         3 506.599654 317.098901 696.100406 \n",
       "         4 800.042143 603.771400 996.312886 \n",
       "         5 799.976827 603.620380 996.333274 \n",
       "         6 1013.87002 827.012725 1200.72732 \n",
       "         7 807.161604 617.976732 996.346475 \n",
       "         8 808.402611 619.975481 996.829740 \n",
       "         9 114.039437 -72.816142 300.895016 \n"
      ]
     },
     "execution_count": 6,
     "metadata": {},
     "output_type": "execute_result"
    }
   ],
   "source": [
    "puts \"88% prediction intervals for the predictions:\"\n",
    "pi = model_fit.predict_with_intervals(newdata: newdata, level: 0.88, type: :prediction)\n",
    "Daru::DataFrame.new(pi, order: [:pred, :lower88, :upper88])"
   ]
  },
  {
   "cell_type": "markdown",
   "metadata": {},
   "source": [
    "**Remark**: You might notice that `#predict` with `with_ran_ef: true` produces some values outside of the confidence intervals, because the confidence intervals are computed from `#predict` with `with_ran_ef: false`.\n",
    "However, `#predict` with `with_ran_ef: false` should always give values which lie in the center of the confidence or prediction intervals."
   ]
  }
 ],
 "metadata": {
  "kernelspec": {
   "display_name": "Ruby 2.2.2",
   "language": "ruby",
   "name": "ruby"
  },
  "language_info": {
   "file_extension": "rb",
   "mimetype": "application/x-ruby",
   "name": "ruby",
   "version": "2.2.2"
  }
 },
 "nbformat": 4,
 "nbformat_minor": 0
}
