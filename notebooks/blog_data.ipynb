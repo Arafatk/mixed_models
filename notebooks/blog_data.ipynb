{
 "cells": [
  {
   "cell_type": "markdown",
   "metadata": {},
   "source": [
    "# Data Analysis in Ruby\n",
    "\n",
    "We are investigating the question:\n",
    "\n",
    "If a blog post has received a comment in the first 24 hours after publication, how many more comments will it receive before 24 hours after its publication have passed?\n",
    "\n",
    "After doing the entire data cleaning and preprocessing with `daru`, we use `mixed_models` to fit a linear mixed model.\n",
    "The number of comments of a given blog post is modeled as a function of the average number of comments and trackbacks per page at the hosting website of the blog, the number of parent blog post and their comments, and the blog post text length. Additionally, we model random fluctuations of the number of comments due to the day of the week when the blog post was released.\n",
    "\n",
    "We evaluate which predictors have the strongest effect on the number of comments that a blog post receives.\n",
    "\n",
    "Finally, we use the resulting model make predictions on a test data set."
   ]
  },
  {
   "cell_type": "markdown",
   "metadata": {},
   "source": [
    "## Data Preprocessing with `daru`"
   ]
  },
  {
   "cell_type": "markdown",
   "metadata": {},
   "source": [
    "Since `daru` requires csv files to have a header line, we add a header to the data file and save the new data frame."
   ]
  },
  {
   "cell_type": "code",
   "execution_count": 1,
   "metadata": {
    "collapsed": true
   },
   "outputs": [],
   "source": [
    "without_header = '../examples/data/blogData_train.csv'\n",
    "with_header = '../examples/data/blogData_train_with_header.csv'\n",
    "colnames = (1..281).to_a.map { |x| \"v#{x}\" }\n",
    "header = colnames.join(',')\n",
    "File.open(with_header, 'w') do |fo|\n",
    "  fo.puts header\n",
    "  File.foreach(without_header) do |li|\n",
    "    fo.puts li\n",
    "  end\n",
    "end"
   ]
  },
  {
   "cell_type": "markdown",
   "metadata": {},
   "source": [
    "We load the data with `daru`, select the data columns which we want to keep, and assign them meaningful names."
   ]
  },
  {
   "cell_type": "code",
   "execution_count": 2,
   "metadata": {
    "collapsed": false
   },
   "outputs": [
    {
     "data": {
      "application/javascript": [
       "if(window['d3'] === undefined ||\n",
       "   window['Nyaplot'] === undefined){\n",
       "    var path = {\"d3\":\"http://d3js.org/d3.v3.min\",\"downloadable\":\"http://cdn.rawgit.com/domitry/d3-downloadable/master/d3-downloadable\"};\n",
       "\n",
       "\n",
       "\n",
       "    var shim = {\"d3\":{\"exports\":\"d3\"},\"downloadable\":{\"exports\":\"downloadable\"}};\n",
       "\n",
       "    require.config({paths: path, shim:shim});\n",
       "\n",
       "\n",
       "require(['d3'], function(d3){window['d3']=d3;console.log('finished loading d3');require(['downloadable'], function(downloadable){window['downloadable']=downloadable;console.log('finished loading downloadable');\n",
       "\n",
       "\tvar script = d3.select(\"head\")\n",
       "\t    .append(\"script\")\n",
       "\t    .attr(\"src\", \"http://cdn.rawgit.com/domitry/Nyaplotjs/master/release/nyaplot.js\")\n",
       "\t    .attr(\"async\", true);\n",
       "\n",
       "\tscript[0][0].onload = script[0][0].onreadystatechange = function(){\n",
       "\n",
       "\n",
       "\t    var event = document.createEvent(\"HTMLEvents\");\n",
       "\t    event.initEvent(\"load_nyaplot\",false,false);\n",
       "\t    window.dispatchEvent(event);\n",
       "\t    console.log('Finished loading Nyaplotjs');\n",
       "\n",
       "\t};\n",
       "\n",
       "\n",
       "});});\n",
       "}\n"
      ],
      "text/plain": [
       "\"if(window['d3'] === undefined ||\\n   window['Nyaplot'] === undefined){\\n    var path = {\\\"d3\\\":\\\"http://d3js.org/d3.v3.min\\\",\\\"downloadable\\\":\\\"http://cdn.rawgit.com/domitry/d3-downloadable/master/d3-downloadable\\\"};\\n\\n\\n\\n    var shim = {\\\"d3\\\":{\\\"exports\\\":\\\"d3\\\"},\\\"downloadable\\\":{\\\"exports\\\":\\\"downloadable\\\"}};\\n\\n    require.config({paths: path, shim:shim});\\n\\n\\nrequire(['d3'], function(d3){window['d3']=d3;console.log('finished loading d3');require(['downloadable'], function(downloadable){window['downloadable']=downloadable;console.log('finished loading downloadable');\\n\\n\\tvar script = d3.select(\\\"head\\\")\\n\\t    .append(\\\"script\\\")\\n\\t    .attr(\\\"src\\\", \\\"http://cdn.rawgit.com/domitry/Nyaplotjs/master/release/nyaplot.js\\\")\\n\\t    .attr(\\\"async\\\", true);\\n\\n\\tscript[0][0].onload = script[0][0].onreadystatechange = function(){\\n\\n\\n\\t    var event = document.createEvent(\\\"HTMLEvents\\\");\\n\\t    event.initEvent(\\\"load_nyaplot\\\",false,false);\\n\\t    window.dispatchEvent(event);\\n\\t    console.log('Finished loading Nyaplotjs');\\n\\n\\t};\\n\\n\\n});});\\n}\\n\""
      ]
     },
     "metadata": {},
     "output_type": "display_data"
    },
    {
     "data": {
      "text/html": [
       "<table><tr><th colspan=\"14\">Daru::DataFrame:69851026143700  rows: 10  cols: 13<tr><th></th><th>host_comments_avg</th><th>host_trackbacks_avg</th><th>comments</th><th>length</th><th>mo</th><th>tu</th><th>we</th><th>th</th><th>fr</th><th>sa</th><th>su</th><th>parents</th><th>parents_comments</th></tr><tr><td>0</td><td>34.567566</td><td>0.972973</td><td>2.0</td><td>0.0</td><td>0.0</td><td>0.0</td><td>0.0</td><td>1.0</td><td>0.0</td><td>0.0</td><td>0.0</td><td>0.0</td><td>0.0</td></tr><tr><td>1</td><td>34.567566</td><td>0.972973</td><td>5.0</td><td>0.0</td><td>0.0</td><td>0.0</td><td>1.0</td><td>0.0</td><td>0.0</td><td>0.0</td><td>0.0</td><td>0.0</td><td>0.0</td></tr><tr><td>2</td><td>34.567566</td><td>0.972973</td><td>5.0</td><td>0.0</td><td>0.0</td><td>0.0</td><td>1.0</td><td>0.0</td><td>0.0</td><td>0.0</td><td>0.0</td><td>0.0</td><td>0.0</td></tr><tr><td>3</td><td>34.567566</td><td>0.972973</td><td>2.0</td><td>0.0</td><td>0.0</td><td>0.0</td><td>0.0</td><td>1.0</td><td>0.0</td><td>0.0</td><td>0.0</td><td>0.0</td><td>0.0</td></tr><tr><td>4</td><td>34.567566</td><td>0.972973</td><td>2.0</td><td>0.0</td><td>0.0</td><td>0.0</td><td>0.0</td><td>1.0</td><td>0.0</td><td>0.0</td><td>0.0</td><td>0.0</td><td>0.0</td></tr><tr><td>5</td><td>34.567566</td><td>0.972973</td><td>5.0</td><td>0.0</td><td>0.0</td><td>0.0</td><td>1.0</td><td>0.0</td><td>0.0</td><td>0.0</td><td>0.0</td><td>0.0</td><td>0.0</td></tr><tr><td>6</td><td>34.567566</td><td>0.972973</td><td>5.0</td><td>0.0</td><td>0.0</td><td>0.0</td><td>1.0</td><td>0.0</td><td>0.0</td><td>0.0</td><td>0.0</td><td>0.0</td><td>0.0</td></tr><tr><td>7</td><td>34.567566</td><td>0.972973</td><td>2.0</td><td>0.0</td><td>0.0</td><td>0.0</td><td>0.0</td><td>1.0</td><td>0.0</td><td>0.0</td><td>0.0</td><td>0.0</td><td>0.0</td></tr><tr><td>8</td><td>34.567566</td><td>0.972973</td><td>2.0</td><td>0.0</td><td>0.0</td><td>0.0</td><td>0.0</td><td>1.0</td><td>0.0</td><td>0.0</td><td>0.0</td><td>0.0</td><td>0.0</td></tr><tr><td>9</td><td>34.567566</td><td>0.972973</td><td>2.0</td><td>0.0</td><td>0.0</td><td>0.0</td><td>0.0</td><td>1.0</td><td>0.0</td><td>0.0</td><td>0.0</td><td>0.0</td><td>0.0</td></tr></table>"
      ],
      "text/plain": [
       "\n",
       "#<Daru::DataFrame:69851026143700 @name = 1b354a65-6598-46b4-a66a-9b9716945b1d @size = 10>\n",
       "           host_comme host_track   comments     length         mo         tu         we         th         fr         sa         su    parents parents_co \n",
       "         0  34.567566   0.972973        2.0        0.0        0.0        0.0        0.0        1.0        0.0        0.0        0.0        0.0        0.0 \n",
       "         1  34.567566   0.972973        5.0        0.0        0.0        0.0        1.0        0.0        0.0        0.0        0.0        0.0        0.0 \n",
       "         2  34.567566   0.972973        5.0        0.0        0.0        0.0        1.0        0.0        0.0        0.0        0.0        0.0        0.0 \n",
       "         3  34.567566   0.972973        2.0        0.0        0.0        0.0        0.0        1.0        0.0        0.0        0.0        0.0        0.0 \n",
       "         4  34.567566   0.972973        2.0        0.0        0.0        0.0        0.0        1.0        0.0        0.0        0.0        0.0        0.0 \n",
       "         5  34.567566   0.972973        5.0        0.0        0.0        0.0        1.0        0.0        0.0        0.0        0.0        0.0        0.0 \n",
       "         6  34.567566   0.972973        5.0        0.0        0.0        0.0        1.0        0.0        0.0        0.0        0.0        0.0        0.0 \n",
       "         7  34.567566   0.972973        2.0        0.0        0.0        0.0        0.0        1.0        0.0        0.0        0.0        0.0        0.0 \n",
       "         8  34.567566   0.972973        2.0        0.0        0.0        0.0        0.0        1.0        0.0        0.0        0.0        0.0        0.0 \n",
       "         9  34.567566   0.972973        2.0        0.0        0.0        0.0        0.0        1.0        0.0        0.0        0.0        0.0        0.0 \n"
      ]
     },
     "execution_count": 2,
     "metadata": {},
     "output_type": "execute_result"
    }
   ],
   "source": [
    "# load the data with daru\n",
    "require 'daru'\n",
    "df = Daru::DataFrame.from_csv '../examples/data/blogData_train_with_header.csv'\n",
    "\n",
    "# select a subset of columns of the data frame\n",
    "keep = [:v16, :v41, :v54, :v62, :v270, :v271, :v272, \n",
    "        :v273, :v274, :v275, :v276, :v277, :v280]\n",
    "blog_data = df[*keep]\n",
    "df = nil\n",
    "\n",
    "# assign meaningful names for the selected columns\n",
    "meaningful_names = [:host_comments_avg, :host_trackbacks_avg, \n",
    "                    :comments, :length, :mo, :tu, :we, :th, \n",
    "                    :fr, :sa, :su, :parents, :parents_comments]\n",
    "blog_data.vectors = Daru::Index.new(meaningful_names)\n",
    "\n",
    "# the resulting data set\n",
    "blog_data.head"
   ]
  },
  {
   "cell_type": "markdown",
   "metadata": {},
   "source": [
    "For a more clear representation of the data, and in order to use the day of the week as a grouping variable for the observations, we replace the respective seven 0-1-valued columns with one column of categorical data (with values 'mo', 'tu', 'th', 'fr', 'sa', 'su')."
   ]
  },
  {
   "cell_type": "code",
   "execution_count": 3,
   "metadata": {
    "collapsed": false
   },
   "outputs": [
    {
     "data": {
      "text/html": [
       "<table><tr><th colspan=\"8\">Daru::DataFrame:69851020652680  rows: 3  cols: 7<tr><th></th><th>host_comments_avg</th><th>host_trackbacks_avg</th><th>comments</th><th>length</th><th>parents</th><th>parents_comments</th><th>day</th></tr><tr><td>0</td><td>34.567566</td><td>0.972973</td><td>2.0</td><td>0.0</td><td>0.0</td><td>0.0</td><td>th</td></tr><tr><td>1</td><td>34.567566</td><td>0.972973</td><td>5.0</td><td>0.0</td><td>0.0</td><td>0.0</td><td>we</td></tr><tr><td>2</td><td>34.567566</td><td>0.972973</td><td>5.0</td><td>0.0</td><td>0.0</td><td>0.0</td><td>we</td></tr></table>"
      ],
      "text/plain": [
       "\n",
       "#<Daru::DataFrame:69851020652680 @name = 1b354a65-6598-46b4-a66a-9b9716945b1d @size = 3>\n",
       "           host_comme host_track   comments     length    parents parents_co        day \n",
       "         0  34.567566   0.972973        2.0        0.0        0.0        0.0         th \n",
       "         1  34.567566   0.972973        5.0        0.0        0.0        0.0         we \n",
       "         2  34.567566   0.972973        5.0        0.0        0.0        0.0         we \n"
      ]
     },
     "execution_count": 3,
     "metadata": {},
     "output_type": "execute_result"
    }
   ],
   "source": [
    "days = Array.new(blog_data.nrows) { :unknown }\n",
    "[:mo, :tu, :we, :th, :fr, :sa, :su].each do |d|\n",
    "  ind = blog_data[d].each_index.select { |i| blog_data[d][i]==1 }\n",
    "  ind.each { |i| days[i] = d.to_s }\n",
    "  blog_data.delete_vector(d)\n",
    "end\n",
    "blog_data[:day] = days\n",
    "blog_data.head 3"
   ]
  },
  {
   "cell_type": "markdown",
   "metadata": {},
   "source": [
    "As can be seen in the above output, the length of the text in a blog post is often given as zero. Those are probably missing values, and we get rid of those observations. \n",
    "\n",
    "We also delete observation which have zero comments in the first 24 hours after publication, to comply with our research objective stated in the beginning."
   ]
  },
  {
   "cell_type": "code",
   "execution_count": 4,
   "metadata": {
    "collapsed": false
   },
   "outputs": [
    {
     "data": {
      "text/plain": [
       "22435"
      ]
     },
     "execution_count": 4,
     "metadata": {},
     "output_type": "execute_result"
    }
   ],
   "source": [
    "nonzero_ind = blog_data[:length].each_index.select do |i| \n",
    "  blog_data[:length][i] > 0 && blog_data[:comments][i] > 0\n",
    "end\n",
    "blog_data = blog_data.row[*nonzero_ind]\n",
    "blog_data.nrows"
   ]
  },
  {
   "cell_type": "markdown",
   "metadata": {},
   "source": [
    "Clearly, the variable `parents` denoting the number of parent blog posts is highly correlated to the variable `parents_comments` which denotes the number of comments that the parents of a blog post received on average. Therefore, we shouldn't include both these variables in the linear mixed models.\n",
    "\n",
    "Thus, we combine the variables `parents` and `parents_comments` into one variable called `has_parent_with_comments`, which designates if a blog post has at least one parent post with at least one comment."
   ]
  },
  {
   "cell_type": "code",
   "execution_count": 5,
   "metadata": {
    "collapsed": false
   },
   "outputs": [
    {
     "data": {
      "text/html": [
       "<table><tr><th colspan=\"7\">Daru::DataFrame:69851075521420  rows: 3  cols: 6<tr><th></th><th>host_comments_avg</th><th>host_trackbacks_avg</th><th>comments</th><th>length</th><th>day</th><th>has_parent_with_comments</th></tr><tr><td>1221</td><td>110.30087</td><td>0.0</td><td>74.0</td><td>3501.0</td><td>we</td><td>n</td></tr><tr><td>1222</td><td>110.30087</td><td>0.0</td><td>74.0</td><td>3501.0</td><td>we</td><td>n</td></tr><tr><td>1223</td><td>110.30087</td><td>0.0</td><td>218.0</td><td>4324.0</td><td>th</td><td>n</td></tr></table>"
      ],
      "text/plain": [
       "\n",
       "#<Daru::DataFrame:69851075521420 @name = 1b354a65-6598-46b4-a66a-9b9716945b1d @size = 3>\n",
       "           host_comme host_track   comments     length        day has_parent \n",
       "      1221  110.30087        0.0       74.0     3501.0         we          n \n",
       "      1222  110.30087        0.0       74.0     3501.0         we          n \n",
       "      1223  110.30087        0.0      218.0     4324.0         th          n \n"
      ]
     },
     "execution_count": 5,
     "metadata": {},
     "output_type": "execute_result"
    }
   ],
   "source": [
    "# create a binary indicator vector specifying if a blog post has at least \n",
    "# one parent post which has comments\n",
    "hpwc = (blog_data[:parents] * blog_data[:parents_comments]).to_a\n",
    "blog_data[:has_parent_with_comments] = hpwc.map { |t| t == 0 ? 'n' : 'y'} \n",
    "blog_data.delete_vector(:parents)\n",
    "blog_data.delete_vector(:parents_comments)\n",
    "blog_data.head 3"
   ]
  },
  {
   "cell_type": "markdown",
   "metadata": {
    "collapsed": true
   },
   "source": [
    "## Fit a linear mixed model"
   ]
  },
  {
   "cell_type": "code",
   "execution_count": 6,
   "metadata": {
    "collapsed": false
   },
   "outputs": [
    {
     "name": "stdout",
     "output_type": "stream",
     "text": [
      "starting iteration 0\n",
      "starting iteration 1\n",
      "starting iteration 2\n",
      "starting iteration 3\n",
      "starting iteration 4\n",
      "starting iteration 5\n",
      "starting iteration 6\n",
      "starting iteration 7\n",
      "starting iteration 8\n",
      "starting iteration 9\n",
      "starting iteration 10\n",
      "starting iteration 11\n",
      "starting iteration 12\n",
      "starting iteration 13\n",
      "starting iteration 14\n",
      "starting iteration 15\n",
      "starting iteration 16\n",
      "starting iteration 17\n",
      "starting iteration 18\n",
      "starting iteration 19\n"
     ]
    },
    {
     "data": {
      "text/plain": [
       "{:intercept=>40.827178187509304, :host_comments_avg=>0.28664521910753954, :length=>0.0007307403890011964, :has_parent_with_comments_lvl_y=>-20.27113218068513}"
      ]
     },
     "execution_count": 6,
     "metadata": {},
     "output_type": "execute_result"
    }
   ],
   "source": [
    "require 'mixed_models'\n",
    "model_fit = LMM.from_formula(formula: \"comments ~ host_comments_avg + length + has_parent_with_comments + (1 | day)\", data: blog_data)\n",
    "model_fit.fix_ef"
   ]
  },
  {
   "cell_type": "markdown",
   "metadata": {},
   "source": [
    "### Assess the quality of the fit"
   ]
  },
  {
   "cell_type": "code",
   "execution_count": 10,
   "metadata": {
    "collapsed": false
   },
   "outputs": [
    {
     "ename": "LoadError",
     "evalue": "cannot load such file -- gnuplotrb",
     "output_type": "error",
     "traceback": [
      "\u001b[31mLoadError\u001b[0m: cannot load such file -- gnuplotrb",
      "\u001b[37m/home/alexej/.rbenv/versions/2.2.2/lib/ruby/2.2.0/rubygems/core_ext/kernel_require.rb:54:in `require'\u001b[0m",
      "\u001b[37m/home/alexej/.rbenv/versions/2.2.2/lib/ruby/2.2.0/rubygems/core_ext/kernel_require.rb:54:in `require'\u001b[0m",
      "\u001b[37m/home/alexej/.rbenv/versions/2.2.2/lib/ruby/gems/2.2.0/gems/backports-3.6.5/lib/backports/std_lib.rb:9:in `require_with_backports'\u001b[0m",
      "\u001b[37m(pry):70:in `<main>'\u001b[0m",
      "\u001b[37m/home/alexej/.rbenv/versions/2.2.2/lib/ruby/gems/2.2.0/gems/pry-0.10.1/lib/pry/pry_instance.rb:355:in `eval'\u001b[0m",
      "\u001b[37m/home/alexej/.rbenv/versions/2.2.2/lib/ruby/gems/2.2.0/gems/pry-0.10.1/lib/pry/pry_instance.rb:355:in `evaluate_ruby'\u001b[0m",
      "\u001b[37m/home/alexej/.rbenv/versions/2.2.2/lib/ruby/gems/2.2.0/gems/pry-0.10.1/lib/pry/pry_instance.rb:323:in `handle_line'\u001b[0m",
      "\u001b[37m/home/alexej/.rbenv/versions/2.2.2/lib/ruby/gems/2.2.0/gems/pry-0.10.1/lib/pry/pry_instance.rb:243:in `block (2 levels) in eval'\u001b[0m",
      "\u001b[37m/home/alexej/.rbenv/versions/2.2.2/lib/ruby/gems/2.2.0/gems/pry-0.10.1/lib/pry/pry_instance.rb:242:in `catch'\u001b[0m",
      "\u001b[37m/home/alexej/.rbenv/versions/2.2.2/lib/ruby/gems/2.2.0/gems/pry-0.10.1/lib/pry/pry_instance.rb:242:in `block in eval'\u001b[0m",
      "\u001b[37m/home/alexej/.rbenv/versions/2.2.2/lib/ruby/gems/2.2.0/gems/pry-0.10.1/lib/pry/pry_instance.rb:241:in `catch'\u001b[0m",
      "\u001b[37m/home/alexej/.rbenv/versions/2.2.2/lib/ruby/gems/2.2.0/gems/pry-0.10.1/lib/pry/pry_instance.rb:241:in `eval'\u001b[0m",
      "\u001b[37m/home/alexej/.rbenv/versions/2.2.2/lib/ruby/gems/2.2.0/gems/iruby-0.2.5/lib/iruby/backend.rb:65:in `eval'\u001b[0m",
      "\u001b[37m/home/alexej/.rbenv/versions/2.2.2/lib/ruby/gems/2.2.0/gems/iruby-0.2.5/lib/iruby/backend.rb:12:in `eval'\u001b[0m",
      "\u001b[37m/home/alexej/.rbenv/versions/2.2.2/lib/ruby/gems/2.2.0/gems/iruby-0.2.5/lib/iruby/kernel.rb:87:in `execute_request'\u001b[0m",
      "\u001b[37m/home/alexej/.rbenv/versions/2.2.2/lib/ruby/gems/2.2.0/gems/iruby-0.2.5/lib/iruby/kernel.rb:47:in `dispatch'\u001b[0m",
      "\u001b[37m/home/alexej/.rbenv/versions/2.2.2/lib/ruby/gems/2.2.0/gems/iruby-0.2.5/lib/iruby/kernel.rb:37:in `run'\u001b[0m",
      "\u001b[37m/home/alexej/.rbenv/versions/2.2.2/lib/ruby/gems/2.2.0/gems/iruby-0.2.5/lib/iruby/command.rb:70:in `run_kernel'\u001b[0m",
      "\u001b[37m/home/alexej/.rbenv/versions/2.2.2/lib/ruby/gems/2.2.0/gems/iruby-0.2.5/lib/iruby/command.rb:34:in `run'\u001b[0m",
      "\u001b[37m/home/alexej/.rbenv/versions/2.2.2/lib/ruby/gems/2.2.0/gems/iruby-0.2.5/bin/iruby:5:in `<top (required)>'\u001b[0m",
      "\u001b[37m/home/alexej/.rbenv/versions/2.2.2/bin/iruby:23:in `load'\u001b[0m",
      "\u001b[37m/home/alexej/.rbenv/versions/2.2.2/bin/iruby:23:in `<main>'\u001b[0m"
     ]
    }
   ],
   "source": [
    "require 'gnuplotrb'\n",
    "include GnuplotRB\n",
    "\n",
    "x, y = model_fit.fitted, model_fit.residuals\n",
    "fitted_vs_residuals = Plot.new([[x,y], with: 'points', pointtype: 6, notitle: true],\n",
    "                               xlabel: 'Fitted', ylabel: 'Residuals')"
   ]
  }
 ],
 "metadata": {
  "kernelspec": {
   "display_name": "Ruby 2.2.2",
   "language": "ruby",
   "name": "ruby"
  },
  "language_info": {
   "file_extension": "rb",
   "mimetype": "application/x-ruby",
   "name": "ruby",
   "version": "2.2.2"
  }
 },
 "nbformat": 4,
 "nbformat_minor": 0
}
