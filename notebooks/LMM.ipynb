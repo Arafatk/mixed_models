{
 "cells": [
  {
   "cell_type": "markdown",
   "metadata": {},
   "source": [
    "# LMM usage example\n",
    "\n",
    "Below we will fit a linear mixed model, and demostrate many inference and prediction methods available for objects of class `LMM`."
   ]
  },
  {
   "cell_type": "markdown",
   "metadata": {},
   "source": [
    "## Example data\n",
    "\n",
    "The data set, which is simulated, contains two numeric variables *Age* and *Aggression*, and two categorical variables *Location* and *Species*. These data are available for 100 (human and alien) individuals.\n",
    "\n",
    "We will fit the model with the method `LMM#from_formula`, which mimics the behaviour of the function `lmer` from the `R` package `lme4`.\n",
    "\n",
    "The data is supplied to `LMM#from_formula` as a `Daru::DataFrame` (from the excellent Ruby gem [daru](https://github.com/v0dro/daru.git)). We load the data, and display the first 10 lines with:"
   ]
  },
  {
   "cell_type": "code",
   "execution_count": 1,
   "metadata": {
    "collapsed": false
   },
   "outputs": [
    {
     "data": {
      "application/javascript": [
       "if(window['d3'] === undefined ||\n",
       "   window['Nyaplot'] === undefined){\n",
       "    var path = {\"d3\":\"http://d3js.org/d3.v3.min\",\"downloadable\":\"http://cdn.rawgit.com/domitry/d3-downloadable/master/d3-downloadable\"};\n",
       "\n",
       "\n",
       "\n",
       "    var shim = {\"d3\":{\"exports\":\"d3\"},\"downloadable\":{\"exports\":\"downloadable\"}};\n",
       "\n",
       "    require.config({paths: path, shim:shim});\n",
       "\n",
       "\n",
       "require(['d3'], function(d3){window['d3']=d3;console.log('finished loading d3');require(['downloadable'], function(downloadable){window['downloadable']=downloadable;console.log('finished loading downloadable');\n",
       "\n",
       "\tvar script = d3.select(\"head\")\n",
       "\t    .append(\"script\")\n",
       "\t    .attr(\"src\", \"http://cdn.rawgit.com/domitry/Nyaplotjs/master/release/nyaplot.js\")\n",
       "\t    .attr(\"async\", true);\n",
       "\n",
       "\tscript[0][0].onload = script[0][0].onreadystatechange = function(){\n",
       "\n",
       "\n",
       "\t    var event = document.createEvent(\"HTMLEvents\");\n",
       "\t    event.initEvent(\"load_nyaplot\",false,false);\n",
       "\t    window.dispatchEvent(event);\n",
       "\t    console.log('Finished loading Nyaplotjs');\n",
       "\n",
       "\t};\n",
       "\n",
       "\n",
       "});});\n",
       "}\n"
      ],
      "text/plain": [
       "\"if(window['d3'] === undefined ||\\n   window['Nyaplot'] === undefined){\\n    var path = {\\\"d3\\\":\\\"http://d3js.org/d3.v3.min\\\",\\\"downloadable\\\":\\\"http://cdn.rawgit.com/domitry/d3-downloadable/master/d3-downloadable\\\"};\\n\\n\\n\\n    var shim = {\\\"d3\\\":{\\\"exports\\\":\\\"d3\\\"},\\\"downloadable\\\":{\\\"exports\\\":\\\"downloadable\\\"}};\\n\\n    require.config({paths: path, shim:shim});\\n\\n\\nrequire(['d3'], function(d3){window['d3']=d3;console.log('finished loading d3');require(['downloadable'], function(downloadable){window['downloadable']=downloadable;console.log('finished loading downloadable');\\n\\n\\tvar script = d3.select(\\\"head\\\")\\n\\t    .append(\\\"script\\\")\\n\\t    .attr(\\\"src\\\", \\\"http://cdn.rawgit.com/domitry/Nyaplotjs/master/release/nyaplot.js\\\")\\n\\t    .attr(\\\"async\\\", true);\\n\\n\\tscript[0][0].onload = script[0][0].onreadystatechange = function(){\\n\\n\\n\\t    var event = document.createEvent(\\\"HTMLEvents\\\");\\n\\t    event.initEvent(\\\"load_nyaplot\\\",false,false);\\n\\t    window.dispatchEvent(event);\\n\\t    console.log('Finished loading Nyaplotjs');\\n\\n\\t};\\n\\n\\n});});\\n}\\n\""
      ]
     },
     "metadata": {},
     "output_type": "display_data"
    },
    {
     "data": {
      "text/html": [
       "<table><tr><th colspan=\"5\">Daru::DataFrame:70328717559020  rows: 10  cols: 4<tr><th></th><th>Age</th><th>Aggression</th><th>Location</th><th>Species</th></tr><tr><td>0</td><td>204.95</td><td>877.54242028595</td><td>Asylum</td><td>Dalek</td></tr><tr><td>1</td><td>39.88</td><td>852.528392188206</td><td>OodSphere</td><td>WeepingAngel</td></tr><tr><td>2</td><td>107.34</td><td>388.791416909388</td><td>Asylum</td><td>Human</td></tr><tr><td>3</td><td>210.01</td><td>170.010124622982</td><td>OodSphere</td><td>Ood</td></tr><tr><td>4</td><td>270.22</td><td>1078.31219494376</td><td>OodSphere</td><td>Dalek</td></tr><tr><td>5</td><td>157.65</td><td>164.924992952256</td><td>OodSphere</td><td>Ood</td></tr><tr><td>6</td><td>136.15</td><td>865.838374677443</td><td>OodSphere</td><td>WeepingAngel</td></tr><tr><td>7</td><td>241.31</td><td>1052.36035549029</td><td>Earth</td><td>Dalek</td></tr><tr><td>8</td><td>86.84</td><td>-8.57251993382567</td><td>Asylum</td><td>Ood</td></tr><tr><td>9</td><td>206.7</td><td>1070.71900405899</td><td>OodSphere</td><td>Dalek</td></tr></table>"
      ],
      "text/plain": [
       "\n",
       "#<Daru::DataFrame:70328717559020 @name = 2ee32c8e-0139-4554-a4cb-0048d3c97bcf @size = 10>\n",
       "                  Age Aggression   Location    Species \n",
       "         0     204.95 877.542420     Asylum      Dalek \n",
       "         1      39.88 852.528392  OodSphere WeepingAng \n",
       "         2     107.34 388.791416     Asylum      Human \n",
       "         3     210.01 170.010124  OodSphere        Ood \n",
       "         4     270.22 1078.31219  OodSphere      Dalek \n",
       "         5     157.65 164.924992  OodSphere        Ood \n",
       "         6     136.15 865.838374  OodSphere WeepingAng \n",
       "         7     241.31 1052.36035      Earth      Dalek \n",
       "         8      86.84 -8.5725199     Asylum        Ood \n",
       "         9      206.7 1070.71900  OodSphere      Dalek \n"
      ]
     },
     "execution_count": 1,
     "metadata": {},
     "output_type": "execute_result"
    }
   ],
   "source": [
    "require 'daru'\n",
    "alien_species = Daru::DataFrame.from_csv '../examples/data/alien_species.csv'\n",
    "alien_species.head"
   ]
  },
  {
   "cell_type": "markdown",
   "metadata": {},
   "source": [
    "## Linear mixed model\n",
    "\n",
    "We model the *Aggression* level of an individual as a linear function of the *Age* (*Aggression* decreases with *Age*), with a different constant added for each *Species* (i.e. each species has a different base level of aggression). Moreover, we assume that there is a random fluctuation in *Aggression* due to the *Location* that an individual is at. Additionally, there is a random fluctuation in how *Age* affects *Aggression* at each different *Location*. \n",
    "\n",
    "Thus, the *Aggression* level of an individual of *Species* $spcs$ who is at the *Location* $lctn$ can be expressed as:\n",
    "$$Aggression = \\beta_{0} + \\gamma_{spcs} + Age \\cdot \\beta_{1} + b_{lctn,0} + Age \\cdot b_{lctn,1} + \\epsilon,$$\n",
    "where $\\epsilon$ is a random residual, and the random vector $(b_{lctn,0}, b_{lctn,1})^T$ follows a multivariate normal distribution (the same distribution but different realizations of the random vector for each *Location*). That is, we have a linear mixed model with fixed effects $\\beta_{0}, \\beta_{1}, \\gamma_{Dalek}, \\gamma_{Ood}, \\dots$, and random effects $b_{Asylum,0}, b_{Asylum,1}, b_{Earth,0},\\dots$.\n",
    "\n",
    "We fit this model in `mixed_models` using a syntax familiar from the `R` package `lme4`, and display the estimated fixed and random effects coefficients:"
   ]
  },
  {
   "cell_type": "code",
   "execution_count": 2,
   "metadata": {
    "collapsed": false
   },
   "outputs": [
    {
     "name": "stdout",
     "output_type": "stream",
     "text": [
      "Fixed effects:\n",
      "{:intercept=>1016.2867207696772, :Age=>-0.06531615343467667, :Species_lvl_Human=>-499.693695290209, :Species_lvl_Ood=>-899.5693213535769, :Species_lvl_WeepingAngel=>-199.58895804200762}\n",
      "Random effects:\n",
      "{:intercept_Asylum=>-116.68080682806675, :Age_Asylum=>-0.03353391213062394, :intercept_Earth=>83.86571630094429, :Age_Earth=>-0.13613996644462312, :intercept_OodSphere=>32.81508992422805, :Age_OodSphere=>0.16967387859838903}\n"
     ]
    }
   ],
   "source": [
    "require 'mixed_models'\n",
    "model_fit = LMM.from_formula(formula: \"Aggression ~ Age + Species + (Age | Location)\", \n",
    "                             data: alien_species)\n",
    "puts \"Fixed effects:\"\n",
    "puts model_fit.fix_ef\n",
    "puts \"Random effects:\"\n",
    "puts model_fit.ran_ef"
   ]
  },
  {
   "cell_type": "markdown",
   "metadata": {},
   "source": [
    "## Some model attributes\n",
    "\n",
    "Apart from the fixed and random effects coefficients, we can access many attributes of the fitted model. Among others:\n",
    "\n",
    "* `reml` is an indicator whether the profiled REML criterion or the profiled deviance function was optimized by the model fitting algorithm.\n",
    "\n",
    "* `formula` returns the R-like formula used to fit the model as a String.\n",
    "\n",
    "* `model_data`, `optimization_result` and `dev_fun` store the various model matrices in an `LMMData` object, the results of the utilized optimization algorithm, and the corresponding objective function as a `Proc`.\n",
    "\n",
    "* `sigma2` is the residual variance (unless `weights` was specified in the model fit).\n",
    "\n",
    "* `sigma_mat` is the covariance matrix of the multivariate normal random effects vector.\n",
    "\n",
    "* `fix_ef_names` and `ran_ef_names` are Arrays of names of the fixed and random effects.\n",
    "\n",
    "We can look at some of these parameters for our example model:"
   ]
  },
  {
   "cell_type": "code",
   "execution_count": 4,
   "metadata": {
    "collapsed": false,
    "scrolled": true
   },
   "outputs": [
    {
     "name": "stdout",
     "output_type": "stream",
     "text": [
      "REML criterion used: \ttrue\n",
      "Residual variance: \t0.9496833447256808\n",
      "Formula: \tAggression ~ Age + Species + (Age | Location)\n",
      "Variance of the intercept due to 'location' (i.e. variance of b0): \t10870.932406181153\n",
      "Variance of the effect of 'age' due to 'location' (i.e. variance of b1): \t0.024233390356817052\n",
      "Covariance of b0 and b1: \t-0.9716403033290782\n"
     ]
    }
   ],
   "source": [
    "puts \"REML criterion used: \\t#{model_fit.reml}\"\n",
    "puts \"Residual variance: \\t#{model_fit.sigma2}\"\n",
    "puts \"Formula: \\t\" + model_fit.formula\n",
    "puts \"Variance of the intercept due to 'location' (i.e. variance of b0): \\t#{model_fit.sigma_mat[0,0]}\"\n",
    "puts \"Variance of the effect of 'age' due to 'location' (i.e. variance of b1): \\t#{model_fit.sigma_mat[1,1]}\"\n",
    "puts \"Covariance of b0 and b1: \\t#{model_fit.sigma_mat[0,1]}\""
   ]
  },
  {
   "cell_type": "markdown",
   "metadata": {},
   "source": [
    "Some further convenience methods are:\n",
    "\n",
    "* `sigma` returns the square root of `sigma2`.\n",
    "\n",
    "* `theta` returns the optimal solution of the minimization of the deviance function or the REML criterion (whichever was used to fit the model).\n",
    "\n",
    "* `deviance` returns  the value of the deviance function or the REML criterion at the optimal solution.\n"
   ]
  },
  {
   "cell_type": "code",
   "execution_count": 22,
   "metadata": {
    "collapsed": false
   },
   "outputs": [
    {
     "name": "stdout",
     "output_type": "stream",
     "text": [
      "Residual standard deviation: \t0.9745169802141371\n",
      "REML criterion: \t333.715539101513\n"
     ]
    }
   ],
   "source": [
    "puts \"Residual standard deviation: \\t#{model_fit.sigma}\"\n",
    "puts \"REML criterion: \\t#{model_fit.deviance}\""
   ]
  },
  {
   "cell_type": "markdown",
   "metadata": {},
   "source": [
    "## Fitted values and residual\n",
    "\n",
    "There are methods to get the fitted values of the response variable, with or without inclusion of random effects, as well as the model residuals."
   ]
  },
  {
   "cell_type": "code",
   "execution_count": 5,
   "metadata": {
    "collapsed": false
   },
   "outputs": [
    {
     "name": "stdout",
     "output_type": "stream",
     "text": [
      "Fitted values at the population level:\n"
     ]
    },
    {
     "data": {
      "text/plain": [
       "[1002.9001751232403, 814.0929545286947, 509.58198956979004, 103.00035403328388, 998.6369897885589, 106.42030782712357, 807.8049684375385, 1000.5252797843553, 111.04534465183303, 1002.7858718547295, 1008.0797460906101, 498.79959896079356, 100.90435866956511, 111.03358774421474, 102.37593160644838, 812.6239942379489, 97.21856813124623, 800.9297901270043, 510.0032787594437, 502.69505435163774, 503.7329280297147, 999.8864878037642, 497.2875300087809, 1003.3325680589778, 804.1328942914408, 811.9113950039764, 99.91285946042672, 803.9356395080681, 998.4671677896288, 99.50267401685687, 500.71140277182656, 1014.3853675431938, 112.41241174322079, 1010.3031079535265, 114.52212349916078, 813.8107887458568, 811.7526767511301, 498.69901208450415, 1005.0836941325615, 110.67826786953015, 501.0020596546109, 810.6305452351226, 511.31809292808373, 1000.7623774213233, 508.8465296821156, 1008.3730156195318, 1011.249539016795, 102.45953628284474, 1010.9490847109954, 1007.0346876356552, 506.2286582524538, 502.1503176319925, 813.0589998198238, 499.7525616394055, 812.9329396436949, 498.2568217257515, 514.1586924409578, 499.7636653854894, 510.7733562084385, 798.2159039517935, 511.41476083516704, 506.48077860471153, 1012.176375234033, 1013.9856326841735, 101.35504012826436, 1013.1593833432249, 1006.1091577414859, 106.8226553322811, 1002.77542127018, 806.3314360160521, 1002.5860044252195, 514.9699190666165, 1007.2214918344785, 806.2550161165334, 502.05822185564966, 1011.9458092124087, 804.6221122806667, 997.8786692471823, 802.2648523032092, 1011.170506471139, 806.8657221511478, 1011.1763849249481, 798.768478609851, 1009.0999844072597, 806.0166121564969, 102.78481072694944, 99.66400491584056, 506.1835901065838, 998.8949885946258, 499.43577829524736, 814.6050331716226, 1012.1182438574762, 109.602510822461, 501.6904919118124, 98.02326314156153, 106.71945580985437, 99.98274774460185, 114.88985344299806, 798.1950027826945, 106.620828418168]"
      ]
     },
     "execution_count": 5,
     "metadata": {},
     "output_type": "execute_result"
    }
   ],
   "source": [
    "puts \"Fitted values at the population level:\"\n",
    "model_fit.fitted(with_ran_ef: false)"
   ]
  },
  {
   "cell_type": "code",
   "execution_count": 21,
   "metadata": {
    "collapsed": false
   },
   "outputs": [
    {
     "name": "stdout",
     "output_type": "stream",
     "text": [
      "Model residuals:\n"
     ]
    },
    {
     "data": {
      "text/plain": [
       "[-1.8041727180520866, -1.1462465432205136, -0.5102357042341055, -1.4385305789776055, 1.010839756116411, -1.0594917601316638, 2.1172177445057514, 0.8212947077422541, -0.024972828168568384, 0.046451573745571295, -0.25215128087575067, 0.5337610637693615, -0.530629854101111, -0.874628273213915, -0.5173146938876982, -1.0767035113831298, -0.37352823345418074, 0.43428801048560217, -0.008686417241960953, 0.9633162152579189, -1.8591988675071889, -0.06035456182212329, -0.8747549066539477, 2.156663624529642, -0.12014582672793495, 1.5012618544112684, 0.5916114379899646, -1.4808531218287726, -0.16478112799109113, 2.0314537895965294, 0.010773844424193157, 0.8539551421492888, -1.2568149547066971, 0.07403493882111434, -0.11003692957027056, 1.0271335859753208, 1.289389380032162, -0.1484680679627104, -0.4342951733153768, 1.7157974749034395, 1.0173666823257577, -0.6984875406659512, 0.16845508494225214, -1.4232161610595995, -0.14893911781359748, 0.1337897922234106, -0.2102464993108697, 0.4063849522508747, -0.40370493998511847, -1.508647121178683, 0.22131784542773403, -0.33435674401818005, -1.335498834106943, 1.1064057146313644, 0.34729798131309053, 0.21318943374672017, -0.4491433732106884, -0.3144066453173764, -0.8024013676738377, -1.138768647945426, -0.2702669888674336, 0.32795235324385885, -0.07521784973914691, 1.83548484319806, 0.5871444360181357, -0.3036822597837272, -0.8505153742191851, -0.5012451945714247, -0.8060105059507805, 0.5330080478595391, 1.4260343762143748, -1.050545171033491, -0.6140910982553578, -0.2504994695145797, 0.6581363886531335, 0.47527809077325855, 0.7314233385789066, -0.7084492435407128, -1.227234868766459, -0.7943531062594502, 0.24601716633878823, 0.45095282087265787, 0.24100078165179184, 0.5882243348614793, -0.045955678732184424, 2.3011995430929026, -0.8055504416392125, 1.2857127416018557, 0.9605154956996103, -0.05181584374128079, -0.041085223578647856, -0.41963047564354383, 1.2953557251600536, 0.31683184725352476, -1.6086909528895035, 0.3949956845657887, -1.2512383164572398, -0.1762592429558083, 0.09344137531593333, 1.204989211145545]"
      ]
     },
     "execution_count": 21,
     "metadata": {},
     "output_type": "execute_result"
    }
   ],
   "source": [
    "puts \"Model residuals:\"\n",
    "model_fit.residuals"
   ]
  },
  {
   "cell_type": "markdown",
   "metadata": {},
   "source": [
    "## Fixed effects hypotheses tests and confidence intervals\n",
    "\n",
    "Often statistical models are used in order to determine which of the predictor variables have a significant relationship with the response variable. `LMM` has a number of methods to aid with this kind of statistical inference."
   ]
  },
  {
   "cell_type": "markdown",
   "metadata": {},
   "source": [
    "### Variances and covariances of the fixed effects coefficient estimates\n",
    "\n",
    "The covariance matrix of the fixed effects estimates is returned by `LMM#fix_ef_cov_mat`, and the standard deviations of the fixed effects coefficients are returned by `LMM#fix_ef_sd`. Methods for hypotheses tests and confidence intervals can be based on these values."
   ]
  },
  {
   "cell_type": "code",
   "execution_count": 6,
   "metadata": {
    "collapsed": false
   },
   "outputs": [
    {
     "data": {
      "text/plain": [
       "{:intercept=>60.19727495932258, :Age=>0.08988486367253856, :Species_lvl_Human=>0.2682523406941927, :Species_lvl_Ood=>0.2814470814004366, :Species_lvl_WeepingAngel=>0.2757835779525997}"
      ]
     },
     "execution_count": 6,
     "metadata": {},
     "output_type": "execute_result"
    }
   ],
   "source": [
    "model_fit.fix_ef_sd"
   ]
  },
  {
   "cell_type": "markdown",
   "metadata": {},
   "source": [
    "### Wald tests and confidence intervals\n",
    "\n",
    "The [Wald Z test statistics](https://en.wikipedia.org/wiki/Wald_test#Test_on_a_single_parameter) for the fixed effects coefficients can be computed with:"
   ]
  },
  {
   "cell_type": "code",
   "execution_count": 7,
   "metadata": {
    "collapsed": false
   },
   "outputs": [
    {
     "data": {
      "text/plain": [
       "{:intercept=>16.882603431075875, :Age=>-0.7266646548258817, :Species_lvl_Human=>-1862.7747813759402, :Species_lvl_Ood=>-3196.2289922406044, :Species_lvl_WeepingAngel=>-723.7158917283754}"
      ]
     },
     "execution_count": 7,
     "metadata": {},
     "output_type": "execute_result"
    }
   ],
   "source": [
    "model_fit.fix_ef_z"
   ]
  },
  {
   "cell_type": "markdown",
   "metadata": {},
   "source": [
    "Based on the above Wald Z test statistics, we can carry out hypotheses tests for each fixed effects terms $\\beta_{i}$ or $\\gamma_{species}$, testing the null $H_{0} : \\beta_{i} = 0$ against the alternative $H_{a} : \\beta_{i} \\neq 0$, or respectively the null $H_{0} : \\gamma_{species} = 0$ against the alternative $H_{a} : \\gamma_{species} \\neq 0$.\n",
    "\n",
    "The corresponding (approximate) p-values are obtained with:"
   ]
  },
  {
   "cell_type": "code",
   "execution_count": 12,
   "metadata": {
    "collapsed": false
   },
   "outputs": [
    {
     "data": {
      "text/plain": [
       "{:intercept=>0.0, :Age=>0.4674314106158888, :Species_lvl_Human=>0.0, :Species_lvl_Ood=>0.0, :Species_lvl_WeepingAngel=>0.0}"
      ]
     },
     "execution_count": 12,
     "metadata": {},
     "output_type": "execute_result"
    }
   ],
   "source": [
    "model_fit.fix_ef_p(method: :wald)"
   ]
  },
  {
   "cell_type": "markdown",
   "metadata": {},
   "source": [
    "We see that the aggression level of each species is significantly different from the base level (which is the species `Dalek` in this model), while statistically we don't have enough evidence to conclude that the age of an individual is a good predictor of his/her/its aggression level."
   ]
  },
  {
   "cell_type": "markdown",
   "metadata": {},
   "source": [
    "We can use the Wald method for confidence intervals as well. For example 90% confidence intervals for each fixed effects coefficient estimate can be computed as follows."
   ]
  },
  {
   "cell_type": "code",
   "execution_count": 8,
   "metadata": {
    "collapsed": false
   },
   "outputs": [
    {
     "data": {
      "text/plain": [
       "{:intercept=>[917.2710135369496, 1115.302428002405], :Age=>[-0.2131635992213468, 0.08253129235199347], :Species_lvl_Human=>[-500.13493113101106, -499.25245944940696], :Species_lvl_Ood=>[-900.0322606117458, -899.1063820954081], :Species_lvl_WeepingAngel=>[-200.04258166587766, -199.13533441813757]}"
      ]
     },
     "execution_count": 8,
     "metadata": {},
     "output_type": "execute_result"
    }
   ],
   "source": [
    "model_fit.fix_ef_conf_int(level: 0.9, method: :wald)"
   ]
  },
  {
   "cell_type": "markdown",
   "metadata": {},
   "source": [
    "## Predictions and prediction intervals\n",
    "\n",
    "One might also fit a statistical model in order to predict future observations based on new data input.\n",
    "\n",
    "We consider the following new data set containing age, geographic location and species for ten individuals."
   ]
  },
  {
   "cell_type": "code",
   "execution_count": 9,
   "metadata": {
    "collapsed": false
   },
   "outputs": [
    {
     "data": {
      "text/html": [
       "<table><tr><th colspan=\"4\">Daru::DataFrame:70328717138880  rows: 10  cols: 3<tr><th></th><th>Age</th><th>Location</th><th>Species</th></tr><tr><td>0</td><td>209</td><td>OodSphere</td><td>Dalek</td></tr><tr><td>1</td><td>90</td><td>Earth</td><td>Ood</td></tr><tr><td>2</td><td>173</td><td>Asylum</td><td>Ood</td></tr><tr><td>3</td><td>153</td><td>Asylum</td><td>Human</td></tr><tr><td>4</td><td>255</td><td>OodSphere</td><td>WeepingAngel</td></tr><tr><td>5</td><td>256</td><td>Asylum</td><td>WeepingAngel</td></tr><tr><td>6</td><td>37</td><td>Earth</td><td>Dalek</td></tr><tr><td>7</td><td>146</td><td>Earth</td><td>WeepingAngel</td></tr><tr><td>8</td><td>127</td><td>Asylum</td><td>WeepingAngel</td></tr><tr><td>9</td><td>41</td><td>Asylum</td><td>Ood</td></tr></table>"
      ],
      "text/plain": [
       "\n",
       "#<Daru::DataFrame:70328717138880 @name = fd7d2f43-4141-4f35-b2f2-44f991ce767e @size = 10>\n",
       "                  Age   Location    Species \n",
       "         0        209  OodSphere      Dalek \n",
       "         1         90      Earth        Ood \n",
       "         2        173     Asylum        Ood \n",
       "         3        153     Asylum      Human \n",
       "         4        255  OodSphere WeepingAng \n",
       "         5        256     Asylum WeepingAng \n",
       "         6         37      Earth      Dalek \n",
       "         7        146      Earth WeepingAng \n",
       "         8        127     Asylum WeepingAng \n",
       "         9         41     Asylum        Ood \n"
      ]
     },
     "execution_count": 9,
     "metadata": {},
     "output_type": "execute_result"
    }
   ],
   "source": [
    "newdata = Daru::DataFrame.from_csv '../examples/data/alien_species_newdata.csv'"
   ]
  },
  {
   "cell_type": "markdown",
   "metadata": {},
   "source": [
    "Based on the fitted linear mixed model we can predict the aggression levels for the inidividuals, where we can specify whether the random effects estimates should be included in the calculations or not."
   ]
  },
  {
   "cell_type": "code",
   "execution_count": 10,
   "metadata": {
    "collapsed": false
   },
   "outputs": [
    {
     "name": "stdout",
     "output_type": "stream",
     "text": [
      "Predictions of aggression levels on a new data set:\n",
      "[1070.9125752531213, 182.45206492790766, -17.064468754763425, 384.78815861991046, 876.1240725686444, 674.711339114886, 1092.6985606350875, 871.150885526236, 687.4629975728096, -4.0162601001437395]\n"
     ]
    }
   ],
   "source": [
    "puts \"Predictions of aggression levels on a new data set:\"\n",
    "puts model_fit.predict(newdata: newdata, with_ran_ef: true)"
   ]
  },
  {
   "cell_type": "markdown",
   "metadata": {},
   "source": [
    "Since the estimated fixed and random effects coefficients most likely are not exactly the true values, we probably should look at interval estimates of the predictions, rather than the point estimates produced above.\n",
    "\n",
    "Two types of such interval estimates are currently available in `LMM`. On the one hand, a *confidence interval* is an interval estimate of the mean value of the response for given covariates (i.e. a population parameter); on the other hand, a *prediction interval* is an interval estimate of a future observation (for further explanation of this distinction see for example <https://stat.ethz.ch/education/semesters/ss2010/seminar/06_Handout.pdf>)."
   ]
  },
  {
   "cell_type": "code",
   "execution_count": 11,
   "metadata": {
    "collapsed": false
   },
   "outputs": [
    {
     "name": "stdout",
     "output_type": "stream",
     "text": [
      "88% confidence intervals for the predictions:\n"
     ]
    },
    {
     "data": {
      "text/html": [
       "<table><tr><th colspan=\"4\">Daru::DataFrame:70328713806680  rows: 10  cols: 3<tr><th></th><th>pred</th><th>lower88</th><th>upper88</th></tr><tr><td>0</td><td>1002.6356447018298</td><td>906.2754736806305</td><td>1098.9958157230292</td></tr><tr><td>1</td><td>110.83894560697945</td><td>17.153931194406766</td><td>204.52396001955213</td></tr><tr><td>2</td><td>105.41770487190126</td><td>10.164688001453413</td><td>200.67072174234912</td></tr><tr><td>3</td><td>506.59965400396266</td><td>411.8519192433839</td><td>601.3473887645414</td></tr><tr><td>4</td><td>800.0421436018271</td><td>701.9091175621678</td><td>898.1751696414864</td></tr><tr><td>5</td><td>799.9768274483924</td><td>701.8009453651559</td><td>898.152709531629</td></tr><tr><td>6</td><td>1013.8700230925942</td><td>920.443931383714</td><td>1107.2961148014745</td></tr><tr><td>7</td><td>807.1616043262068</td><td>712.5717592728961</td><td>901.7514493795175</td></tr><tr><td>8</td><td>808.4026112414656</td><td>714.1916401880408</td><td>902.6135822948904</td></tr><tr><td>9</td><td>114.0394371252786</td><td>20.614034935160902</td><td>207.4648393153963</td></tr></table>"
      ],
      "text/plain": [
       "\n",
       "#<Daru::DataFrame:70328713806680 @name = ffcade86-b169-4837-90ec-738e1db220b2 @size = 10>\n",
       "                 pred    lower88    upper88 \n",
       "         0 1002.63564 906.275473 1098.99581 \n",
       "         1 110.838945 17.1539311 204.523960 \n",
       "         2 105.417704 10.1646880 200.670721 \n",
       "         3 506.599654 411.851919 601.347388 \n",
       "         4 800.042143 701.909117 898.175169 \n",
       "         5 799.976827 701.800945 898.152709 \n",
       "         6 1013.87002 920.443931 1107.29611 \n",
       "         7 807.161604 712.571759 901.751449 \n",
       "         8 808.402611 714.191640 902.613582 \n",
       "         9 114.039437 20.6140349 207.464839 \n"
      ]
     },
     "execution_count": 11,
     "metadata": {},
     "output_type": "execute_result"
    }
   ],
   "source": [
    "puts \"88% confidence intervals for the predictions:\"\n",
    "ci = model_fit.predict_with_intervals(newdata: newdata, level: 0.88, type: :confidence)\n",
    "Daru::DataFrame.new(ci, order: [:pred, :lower88, :upper88])"
   ]
  },
  {
   "cell_type": "code",
   "execution_count": 12,
   "metadata": {
    "collapsed": false
   },
   "outputs": [
    {
     "name": "stdout",
     "output_type": "stream",
     "text": [
      "88% prediction intervals for the predictions:\n"
     ]
    },
    {
     "data": {
      "text/html": [
       "<table><tr><th colspan=\"4\">Daru::DataFrame:70328718911840  rows: 10  cols: 3<tr><th></th><th>pred</th><th>lower88</th><th>upper88</th></tr><tr><td>0</td><td>1002.6356447018298</td><td>809.9100502106367</td><td>1195.361239193023</td></tr><tr><td>1</td><td>110.83894560697945</td><td>-76.53615878138834</td><td>298.21404999534724</td></tr><tr><td>2</td><td>105.41770487190126</td><td>-85.09352857986573</td><td>295.92893832366826</td></tr><tr><td>3</td><td>506.59965400396266</td><td>317.0988996180352</td><td>696.1004083898902</td></tr><tr><td>4</td><td>800.0421436018271</td><td>603.7713981525592</td><td>996.312889051095</td></tr><tr><td>5</td><td>799.9768274483924</td><td>603.6203777718086</td><td>996.3332771249762</td></tr><tr><td>6</td><td>1013.8700230925942</td><td>827.0127232975983</td><td>1200.7273228875902</td></tr><tr><td>7</td><td>807.1616043262068</td><td>617.9767304767107</td><td>996.3464781757028</td></tr><tr><td>8</td><td>808.4026112414656</td><td>619.975479314019</td><td>996.8297431689122</td></tr><tr><td>9</td><td>114.0394371252786</td><td>-72.81614465010145</td><td>300.89501890065867</td></tr></table>"
      ],
      "text/plain": [
       "\n",
       "#<Daru::DataFrame:70328718911840 @name = 95aed314-3010-4be5-bcd2-b21690044cf6 @size = 10>\n",
       "                 pred    lower88    upper88 \n",
       "         0 1002.63564 809.910050 1195.36123 \n",
       "         1 110.838945 -76.536158 298.214049 \n",
       "         2 105.417704 -85.093528 295.928938 \n",
       "         3 506.599654 317.098899 696.100408 \n",
       "         4 800.042143 603.771398 996.312889 \n",
       "         5 799.976827 603.620377 996.333277 \n",
       "         6 1013.87002 827.012723 1200.72732 \n",
       "         7 807.161604 617.976730 996.346478 \n",
       "         8 808.402611 619.975479 996.829743 \n",
       "         9 114.039437 -72.816144 300.895018 \n"
      ]
     },
     "execution_count": 12,
     "metadata": {},
     "output_type": "execute_result"
    }
   ],
   "source": [
    "puts \"88% prediction intervals for the predictions:\"\n",
    "pi = model_fit.predict_with_intervals(newdata: newdata, level: 0.88, type: :prediction)\n",
    "Daru::DataFrame.new(pi, order: [:pred, :lower88, :upper88])"
   ]
  }
 ],
 "metadata": {
  "kernelspec": {
   "display_name": "Ruby 2.2.2",
   "language": "ruby",
   "name": "ruby"
  },
  "language_info": {
   "file_extension": "rb",
   "mimetype": "application/x-ruby",
   "name": "ruby",
   "version": "2.2.2"
  }
 },
 "nbformat": 4,
 "nbformat_minor": 0
}
